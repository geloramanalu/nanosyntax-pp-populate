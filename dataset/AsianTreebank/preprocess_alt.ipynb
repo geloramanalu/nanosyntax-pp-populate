{
 "cells": [
  {
   "cell_type": "code",
   "execution_count": 2,
   "id": "f0a7eef7",
   "metadata": {},
   "outputs": [],
   "source": [
    "import pandas as pd\n",
    "import itertools\n",
    "import os\n",
    "import re\n",
    "import time\n",
    "from tqdm import tqdm"
   ]
  },
  {
   "cell_type": "markdown",
   "id": "b4c8d270",
   "metadata": {},
   "source": [
    "## Import Asian Tree Bank dataset (training)"
   ]
  },
  {
   "cell_type": "code",
   "execution_count": 49,
   "id": "61bcb170",
   "metadata": {},
   "outputs": [
    {
     "name": "stderr",
     "output_type": "stream",
     "text": [
      "'HTTPSConnectionPool(host='cdn-lfs.hf.co', port=443): Read timed out.' thrown while requesting GET https://huggingface.co/datasets/mutiyama/alt/resolve/main/alt-en/train-00000-of-00001.parquet\n",
      "Retrying in 1s [Retry 1/5].\n"
     ]
    }
   ],
   "source": [
    "import pandas as pd\n",
    "\n",
    "splits = {'train': 'alt-en/train-00000-of-00001.parquet', 'validation': 'alt-en/validation-00000-of-00001.parquet', 'test': 'alt-en/test-00000-of-00001.parquet'}\n",
    "df_treebank = pd.read_parquet(\"hf://datasets/mutiyama/alt/\" + splits[\"train\"])"
   ]
  },
  {
   "cell_type": "code",
   "execution_count": 50,
   "id": "b8f2aedb",
   "metadata": {},
   "outputs": [
    {
     "data": {
      "text/plain": [
       "17889"
      ]
     },
     "execution_count": 50,
     "metadata": {},
     "output_type": "execute_result"
    }
   ],
   "source": [
    "len(df_treebank)"
   ]
  },
  {
   "cell_type": "code",
   "execution_count": 51,
   "id": "56222606",
   "metadata": {},
   "outputs": [
    {
     "data": {
      "text/html": [
       "<div>\n",
       "<style scoped>\n",
       "    .dataframe tbody tr th:only-of-type {\n",
       "        vertical-align: middle;\n",
       "    }\n",
       "\n",
       "    .dataframe tbody tr th {\n",
       "        vertical-align: top;\n",
       "    }\n",
       "\n",
       "    .dataframe thead th {\n",
       "        text-align: right;\n",
       "    }\n",
       "</style>\n",
       "<table border=\"1\" class=\"dataframe\">\n",
       "  <thead>\n",
       "    <tr style=\"text-align: right;\">\n",
       "      <th></th>\n",
       "      <th>SNT.URLID</th>\n",
       "      <th>SNT.URLID.SNTID</th>\n",
       "      <th>url</th>\n",
       "      <th>status</th>\n",
       "      <th>value</th>\n",
       "    </tr>\n",
       "  </thead>\n",
       "  <tbody>\n",
       "    <tr>\n",
       "      <th>0</th>\n",
       "      <td>46605</td>\n",
       "      <td>5273</td>\n",
       "      <td>http://en.wikinews.org/wiki/Swan_in_German_zoo_tests_positive_for_H5N1_virus</td>\n",
       "      <td>draft</td>\n",
       "      <td>(S (S (NP (NP (DT A) (QT (DQL ``) (BASENP (ADJP (RB highly) (JJ pathogenic)) (NN strain)) (DQR ''))) (PP (IN of) (BASENP (DT the) (NNP H5N1) (NNP Avian) (NNP Flu) (NN virus)))) (VP (VBZ has) (VP (VBN been) (VP (VBN detected) (PP (IN in) (NP (BASENP (DT a) (JJ dead) (JJ Australian) (JJ black) (NN swan)) (COMMA ,) (S (VP (VBG floating) (PP (IN in) (NP (BASENP (DT a) (NN pond)) (VP (VBN located) (PP (IN at) (NP (BASENP (DT the) (NNP Dresden) (NNP Zoo)) (PP (IN in) (NP (BASENP (NNP Dresden)) (COMMA ,) (BASENP (NNP Germany))))))))))))))))) (PERIOD .))</td>\n",
       "    </tr>\n",
       "    <tr>\n",
       "      <th>1</th>\n",
       "      <td>46605</td>\n",
       "      <td>5274</td>\n",
       "      <td>http://en.wikinews.org/wiki/Swan_in_German_zoo_tests_positive_for_H5N1_virus</td>\n",
       "      <td>draft</td>\n",
       "      <td>(S (S (BASENP (JJ Conflicting) (NNS reports)) (VP (VBP say) (SBAR (IN that) (S (BASENP (DT the) (NN swan)) (VP (VBD was) (VP (VBN found) (PP (IN on) (NP (NP (BASENP (NNP Monday)) (COMMA ,) (BASENP (NNP Tuesday))) (CC or) (NNP Wednesday))))))))) (PERIOD .))</td>\n",
       "    </tr>\n",
       "    <tr>\n",
       "      <th>2</th>\n",
       "      <td>46605</td>\n",
       "      <td>5275</td>\n",
       "      <td>http://en.wikinews.org/wiki/Swan_in_German_zoo_tests_positive_for_H5N1_virus</td>\n",
       "      <td>draft</td>\n",
       "      <td>(S (S (NP (BASENP (DT The) (NNP Friedrich) (NNP Loeffler) (NNP Institute)) (SBAR (WHNP (WDT which)) (S (VP (VBZ specializes) (PP (IN in) (BASENP (NN animal) (NNS diseases))))))) (VP (VBD confirmed) (BASENP (DT the) (NN test) (NNS results)))) (PERIOD .))</td>\n",
       "    </tr>\n",
       "    <tr>\n",
       "      <th>3</th>\n",
       "      <td>46605</td>\n",
       "      <td>5276</td>\n",
       "      <td>http://en.wikinews.org/wiki/Swan_in_German_zoo_tests_positive_for_H5N1_virus</td>\n",
       "      <td>draft</td>\n",
       "      <td>(SINV (SINV (QT (DQL ``) (QTC (S (BASENP (PRP We)) (VP (MD can) (VP (VB confirm) (SBAR (IN that) (S (BASENP (DT this)) (VP (VBZ is) (BASENP (DT the) (ADJP (RB highly) (JJ pathogenic)) (NN strain)))))))) (COMMA ,)) (DQR '')) (SINV (VP (VBD said)) (NP (BASENP (DT a) (NN spokesperson)) (PP (IN for) (BASENP (DT the) (NN institute)))))) (PERIOD .))</td>\n",
       "    </tr>\n",
       "    <tr>\n",
       "      <th>4</th>\n",
       "      <td>46605</td>\n",
       "      <td>5277</td>\n",
       "      <td>http://en.wikinews.org/wiki/Swan_in_German_zoo_tests_positive_for_H5N1_virus</td>\n",
       "      <td>draft</td>\n",
       "      <td>(S (S (BASENP (NNS Officials)) (VP (VP (VBP have) (VP (VP (VBN blocked) (PRT (RP off))) (NP (NP (NP (BASENP (DT an) (NN area)) (PP (IN of) (BASENP (NNP Dresden)))) (NP (NP (BASENP (QP (RB approximately) (NN 1.9)) (NNS miles)) (PRN (LRB -LRB-) (BASENP (NN 3km)) (RRB -RRB-))) (PP (IN from) (BASENP (DT the) (NN site))))) (SBAR (WHADVP (WRB where)) (S (BASENP (DT the) (NN swan)) (VP (VBD was) (VP (VBN found)))))))) (CC and) (VP (VBP have) (VP (VP (VP (VBN posted) (BASENP (NN observation) (NNS areas))) (PP (IN at) (NP (NP (BASENP (QP (RB approximately) (NN 6.2)) (NNS miles)) (PRN (LRB -LRB-) (BASENP (NN 10km)) (RRB -RRB-))) (PP (IN outside) (BASENP (DT the) (NN area)))))) (PP (IN as) (BASENP (DT a) (NN precaution))))))) (PERIOD .))</td>\n",
       "    </tr>\n",
       "  </tbody>\n",
       "</table>\n",
       "</div>"
      ],
      "text/plain": [
       "  SNT.URLID SNT.URLID.SNTID  \\\n",
       "0     46605            5273   \n",
       "1     46605            5274   \n",
       "2     46605            5275   \n",
       "3     46605            5276   \n",
       "4     46605            5277   \n",
       "\n",
       "                                                                            url  \\\n",
       "0  http://en.wikinews.org/wiki/Swan_in_German_zoo_tests_positive_for_H5N1_virus   \n",
       "1  http://en.wikinews.org/wiki/Swan_in_German_zoo_tests_positive_for_H5N1_virus   \n",
       "2  http://en.wikinews.org/wiki/Swan_in_German_zoo_tests_positive_for_H5N1_virus   \n",
       "3  http://en.wikinews.org/wiki/Swan_in_German_zoo_tests_positive_for_H5N1_virus   \n",
       "4  http://en.wikinews.org/wiki/Swan_in_German_zoo_tests_positive_for_H5N1_virus   \n",
       "\n",
       "  status  \\\n",
       "0  draft   \n",
       "1  draft   \n",
       "2  draft   \n",
       "3  draft   \n",
       "4  draft   \n",
       "\n",
       "                                                                                                                                                                                                                                                                                                                                                                                                                                                                                                                                                                                                                                                                                                                                                              value  \n",
       "0                                                                                                                                                                                          (S (S (NP (NP (DT A) (QT (DQL ``) (BASENP (ADJP (RB highly) (JJ pathogenic)) (NN strain)) (DQR ''))) (PP (IN of) (BASENP (DT the) (NNP H5N1) (NNP Avian) (NNP Flu) (NN virus)))) (VP (VBZ has) (VP (VBN been) (VP (VBN detected) (PP (IN in) (NP (BASENP (DT a) (JJ dead) (JJ Australian) (JJ black) (NN swan)) (COMMA ,) (S (VP (VBG floating) (PP (IN in) (NP (BASENP (DT a) (NN pond)) (VP (VBN located) (PP (IN at) (NP (BASENP (DT the) (NNP Dresden) (NNP Zoo)) (PP (IN in) (NP (BASENP (NNP Dresden)) (COMMA ,) (BASENP (NNP Germany))))))))))))))))) (PERIOD .))  \n",
       "1                                                                                                                                                                                                                                                                                                                                                                                                                                                                                                  (S (S (BASENP (JJ Conflicting) (NNS reports)) (VP (VBP say) (SBAR (IN that) (S (BASENP (DT the) (NN swan)) (VP (VBD was) (VP (VBN found) (PP (IN on) (NP (NP (BASENP (NNP Monday)) (COMMA ,) (BASENP (NNP Tuesday))) (CC or) (NNP Wednesday))))))))) (PERIOD .))  \n",
       "2                                                                                                                                                                                                                                                                                                                                                                                                                                                                                                     (S (S (NP (BASENP (DT The) (NNP Friedrich) (NNP Loeffler) (NNP Institute)) (SBAR (WHNP (WDT which)) (S (VP (VBZ specializes) (PP (IN in) (BASENP (NN animal) (NNS diseases))))))) (VP (VBD confirmed) (BASENP (DT the) (NN test) (NNS results)))) (PERIOD .))  \n",
       "3                                                                                                                                                                                                                                                                                                                                                                                                         (SINV (SINV (QT (DQL ``) (QTC (S (BASENP (PRP We)) (VP (MD can) (VP (VB confirm) (SBAR (IN that) (S (BASENP (DT this)) (VP (VBZ is) (BASENP (DT the) (ADJP (RB highly) (JJ pathogenic)) (NN strain)))))))) (COMMA ,)) (DQR '')) (SINV (VP (VBD said)) (NP (BASENP (DT a) (NN spokesperson)) (PP (IN for) (BASENP (DT the) (NN institute)))))) (PERIOD .))  \n",
       "4  (S (S (BASENP (NNS Officials)) (VP (VP (VBP have) (VP (VP (VBN blocked) (PRT (RP off))) (NP (NP (NP (BASENP (DT an) (NN area)) (PP (IN of) (BASENP (NNP Dresden)))) (NP (NP (BASENP (QP (RB approximately) (NN 1.9)) (NNS miles)) (PRN (LRB -LRB-) (BASENP (NN 3km)) (RRB -RRB-))) (PP (IN from) (BASENP (DT the) (NN site))))) (SBAR (WHADVP (WRB where)) (S (BASENP (DT the) (NN swan)) (VP (VBD was) (VP (VBN found)))))))) (CC and) (VP (VBP have) (VP (VP (VP (VBN posted) (BASENP (NN observation) (NNS areas))) (PP (IN at) (NP (NP (BASENP (QP (RB approximately) (NN 6.2)) (NNS miles)) (PRN (LRB -LRB-) (BASENP (NN 10km)) (RRB -RRB-))) (PP (IN outside) (BASENP (DT the) (NN area)))))) (PP (IN as) (BASENP (DT a) (NN precaution))))))) (PERIOD .))  "
      ]
     },
     "execution_count": 51,
     "metadata": {},
     "output_type": "execute_result"
    }
   ],
   "source": [
    "df_treebank.head()"
   ]
  },
  {
   "cell_type": "code",
   "execution_count": null,
   "id": "b433bc64",
   "metadata": {},
   "outputs": [
    {
     "data": {
      "text/html": [
       "<div>\n",
       "<style scoped>\n",
       "    .dataframe tbody tr th:only-of-type {\n",
       "        vertical-align: middle;\n",
       "    }\n",
       "\n",
       "    .dataframe tbody tr th {\n",
       "        vertical-align: top;\n",
       "    }\n",
       "\n",
       "    .dataframe thead th {\n",
       "        text-align: right;\n",
       "    }\n",
       "</style>\n",
       "<table border=\"1\" class=\"dataframe\">\n",
       "  <thead>\n",
       "    <tr style=\"text-align: right;\">\n",
       "      <th></th>\n",
       "      <th>SNT.URLID</th>\n",
       "      <th>SNT.URLID.SNTID</th>\n",
       "      <th>url</th>\n",
       "      <th>status</th>\n",
       "      <th>value</th>\n",
       "    </tr>\n",
       "  </thead>\n",
       "  <tbody>\n",
       "  </tbody>\n",
       "</table>\n",
       "</div>"
      ],
      "text/plain": [
       "Empty DataFrame\n",
       "Columns: [SNT.URLID, SNT.URLID.SNTID, url, status, value]\n",
       "Index: []"
      ]
     },
     "execution_count": 42,
     "metadata": {},
     "output_type": "execute_result"
    }
   ],
   "source": [
    "# find row SNT.URLID.SNTID 5273 in df_treebank\n",
    "row = df_treebank[df_treebank['SNT.URLID.SNTID'] == 5273]\n",
    "row"
   ]
  },
  {
   "cell_type": "code",
   "execution_count": 14,
   "id": "2bba7c5e",
   "metadata": {},
   "outputs": [],
   "source": [
    "splits_parallel = {'train': 'alt-parallel/train-00000-of-00001.parquet', 'validation': 'alt-parallel/validation-00000-of-00001.parquet', 'test': 'alt-parallel/test-00000-of-00001.parquet'}\n",
    "\n",
    "df_parallel = pd.read_parquet(\"hf://datasets/mutiyama/alt/\" + splits_parallel[\"train\"]) "
   ]
  },
  {
   "cell_type": "code",
   "execution_count": 15,
   "id": "4f934d05",
   "metadata": {},
   "outputs": [
    {
     "data": {
      "text/html": [
       "<div>\n",
       "<style scoped>\n",
       "    .dataframe tbody tr th:only-of-type {\n",
       "        vertical-align: middle;\n",
       "    }\n",
       "\n",
       "    .dataframe tbody tr th {\n",
       "        vertical-align: top;\n",
       "    }\n",
       "\n",
       "    .dataframe thead th {\n",
       "        text-align: right;\n",
       "    }\n",
       "</style>\n",
       "<table border=\"1\" class=\"dataframe\">\n",
       "  <thead>\n",
       "    <tr style=\"text-align: right;\">\n",
       "      <th></th>\n",
       "      <th>SNT.URLID</th>\n",
       "      <th>SNT.URLID.SNTID</th>\n",
       "      <th>url</th>\n",
       "      <th>translation</th>\n",
       "    </tr>\n",
       "  </thead>\n",
       "  <tbody>\n",
       "    <tr>\n",
       "      <th>0</th>\n",
       "      <td>80188</td>\n",
       "      <td>1</td>\n",
       "      <td>http://en.wikinews.org/wiki/2007_Rugby_World_C...</td>\n",
       "      <td>{'bg': 'ফ্রান্সের প্যারিসের পার্ক দি প্রিন্সেস...</td>\n",
       "    </tr>\n",
       "    <tr>\n",
       "      <th>1</th>\n",
       "      <td>80188</td>\n",
       "      <td>2</td>\n",
       "      <td>http://en.wikinews.org/wiki/2007_Rugby_World_C...</td>\n",
       "      <td>{'bg': 'অ্যান্ড্রিয়া মেসি চার মিনিটের মাথায় ট্...</td>\n",
       "    </tr>\n",
       "    <tr>\n",
       "      <th>2</th>\n",
       "      <td>80188</td>\n",
       "      <td>3</td>\n",
       "      <td>http://en.wikinews.org/wiki/2007_Rugby_World_C...</td>\n",
       "      <td>{'bg': 'প্রথমার্ধের বেশির ভাগ সময় ধরেই খেলা নি...</td>\n",
       "    </tr>\n",
       "    <tr>\n",
       "      <th>3</th>\n",
       "      <td>80188</td>\n",
       "      <td>4</td>\n",
       "      <td>http://en.wikinews.org/wiki/2007_Rugby_World_C...</td>\n",
       "      <td>{'bg': 'পর্তুগাল কখনোই হাল ছেড়ে দেয়নি ও ৩৩ মিন...</td>\n",
       "    </tr>\n",
       "    <tr>\n",
       "      <th>4</th>\n",
       "      <td>80188</td>\n",
       "      <td>5</td>\n",
       "      <td>http://en.wikinews.org/wiki/2007_Rugby_World_C...</td>\n",
       "      <td>{'bg': 'প্রথমার্ধে ইটালি ১৬-৫-এ এগিয়ে ছিল কিন্...</td>\n",
       "    </tr>\n",
       "  </tbody>\n",
       "</table>\n",
       "</div>"
      ],
      "text/plain": [
       "  SNT.URLID SNT.URLID.SNTID  \\\n",
       "0     80188               1   \n",
       "1     80188               2   \n",
       "2     80188               3   \n",
       "3     80188               4   \n",
       "4     80188               5   \n",
       "\n",
       "                                                 url  \\\n",
       "0  http://en.wikinews.org/wiki/2007_Rugby_World_C...   \n",
       "1  http://en.wikinews.org/wiki/2007_Rugby_World_C...   \n",
       "2  http://en.wikinews.org/wiki/2007_Rugby_World_C...   \n",
       "3  http://en.wikinews.org/wiki/2007_Rugby_World_C...   \n",
       "4  http://en.wikinews.org/wiki/2007_Rugby_World_C...   \n",
       "\n",
       "                                         translation  \n",
       "0  {'bg': 'ফ্রান্সের প্যারিসের পার্ক দি প্রিন্সেস...  \n",
       "1  {'bg': 'অ্যান্ড্রিয়া মেসি চার মিনিটের মাথায় ট্...  \n",
       "2  {'bg': 'প্রথমার্ধের বেশির ভাগ সময় ধরেই খেলা নি...  \n",
       "3  {'bg': 'পর্তুগাল কখনোই হাল ছেড়ে দেয়নি ও ৩৩ মিন...  \n",
       "4  {'bg': 'প্রথমার্ধে ইটালি ১৬-৫-এ এগিয়ে ছিল কিন্...  "
      ]
     },
     "execution_count": 15,
     "metadata": {},
     "output_type": "execute_result"
    }
   ],
   "source": [
    "df_parallel.head()"
   ]
  },
  {
   "cell_type": "code",
   "execution_count": 26,
   "id": "8a20669b",
   "metadata": {},
   "outputs": [
    {
     "data": {
      "text/html": [
       "<div>\n",
       "<style scoped>\n",
       "    .dataframe tbody tr th:only-of-type {\n",
       "        vertical-align: middle;\n",
       "    }\n",
       "\n",
       "    .dataframe tbody tr th {\n",
       "        vertical-align: top;\n",
       "    }\n",
       "\n",
       "    .dataframe thead th {\n",
       "        text-align: right;\n",
       "    }\n",
       "</style>\n",
       "<table border=\"1\" class=\"dataframe\">\n",
       "  <thead>\n",
       "    <tr style=\"text-align: right;\">\n",
       "      <th></th>\n",
       "      <th>SNT.URLID</th>\n",
       "      <th>SNT.URLID.SNTID</th>\n",
       "      <th>url</th>\n",
       "      <th>translation</th>\n",
       "      <th>en</th>\n",
       "      <th>id</th>\n",
       "    </tr>\n",
       "  </thead>\n",
       "  <tbody>\n",
       "    <tr>\n",
       "      <th>0</th>\n",
       "      <td>80188</td>\n",
       "      <td>1</td>\n",
       "      <td>http://en.wikinews.org/wiki/2007_Rugby_World_C...</td>\n",
       "      <td>{'bg': 'ফ্রান্সের প্যারিসের পার্ক দি প্রিন্সেস...</td>\n",
       "      <td>Italy have defeated Portugal 31-5 in Pool C of...</td>\n",
       "      <td>Italia berhasil mengalahkan Portugal 31-5 di g...</td>\n",
       "    </tr>\n",
       "    <tr>\n",
       "      <th>1</th>\n",
       "      <td>80188</td>\n",
       "      <td>2</td>\n",
       "      <td>http://en.wikinews.org/wiki/2007_Rugby_World_C...</td>\n",
       "      <td>{'bg': 'অ্যান্ড্রিয়া মেসি চার মিনিটের মাথায় ট্...</td>\n",
       "      <td>Andrea Masi opened the scoring in the fourth m...</td>\n",
       "      <td>Andrea Masi membuka skor di menit keempat deng...</td>\n",
       "    </tr>\n",
       "    <tr>\n",
       "      <th>2</th>\n",
       "      <td>80188</td>\n",
       "      <td>3</td>\n",
       "      <td>http://en.wikinews.org/wiki/2007_Rugby_World_C...</td>\n",
       "      <td>{'bg': 'প্রথমার্ধের বেশির ভাগ সময় ধরেই খেলা নি...</td>\n",
       "      <td>Despite controlling the game for much of the f...</td>\n",
       "      <td>Meskipun mengontrol jalannya pertandingan untu...</td>\n",
       "    </tr>\n",
       "    <tr>\n",
       "      <th>3</th>\n",
       "      <td>80188</td>\n",
       "      <td>4</td>\n",
       "      <td>http://en.wikinews.org/wiki/2007_Rugby_World_C...</td>\n",
       "      <td>{'bg': 'পর্তুগাল কখনোই হাল ছেড়ে দেয়নি ও ৩৩ মিন...</td>\n",
       "      <td>Portugal never gave up and David Penalva score...</td>\n",
       "      <td>Portugal tidak pernah menyerah dan David Penal...</td>\n",
       "    </tr>\n",
       "    <tr>\n",
       "      <th>4</th>\n",
       "      <td>80188</td>\n",
       "      <td>5</td>\n",
       "      <td>http://en.wikinews.org/wiki/2007_Rugby_World_C...</td>\n",
       "      <td>{'bg': 'প্রথমার্ধে ইটালি ১৬-৫-এ এগিয়ে ছিল কিন্...</td>\n",
       "      <td>Italy led 16-5 at half time but were matched b...</td>\n",
       "      <td>Italia memimpin 16-5 di babak pertama namun me...</td>\n",
       "    </tr>\n",
       "  </tbody>\n",
       "</table>\n",
       "</div>"
      ],
      "text/plain": [
       "  SNT.URLID SNT.URLID.SNTID  \\\n",
       "0     80188               1   \n",
       "1     80188               2   \n",
       "2     80188               3   \n",
       "3     80188               4   \n",
       "4     80188               5   \n",
       "\n",
       "                                                 url  \\\n",
       "0  http://en.wikinews.org/wiki/2007_Rugby_World_C...   \n",
       "1  http://en.wikinews.org/wiki/2007_Rugby_World_C...   \n",
       "2  http://en.wikinews.org/wiki/2007_Rugby_World_C...   \n",
       "3  http://en.wikinews.org/wiki/2007_Rugby_World_C...   \n",
       "4  http://en.wikinews.org/wiki/2007_Rugby_World_C...   \n",
       "\n",
       "                                         translation  \\\n",
       "0  {'bg': 'ফ্রান্সের প্যারিসের পার্ক দি প্রিন্সেস...   \n",
       "1  {'bg': 'অ্যান্ড্রিয়া মেসি চার মিনিটের মাথায় ট্...   \n",
       "2  {'bg': 'প্রথমার্ধের বেশির ভাগ সময় ধরেই খেলা নি...   \n",
       "3  {'bg': 'পর্তুগাল কখনোই হাল ছেড়ে দেয়নি ও ৩৩ মিন...   \n",
       "4  {'bg': 'প্রথমার্ধে ইটালি ১৬-৫-এ এগিয়ে ছিল কিন্...   \n",
       "\n",
       "                                                  en  \\\n",
       "0  Italy have defeated Portugal 31-5 in Pool C of...   \n",
       "1  Andrea Masi opened the scoring in the fourth m...   \n",
       "2  Despite controlling the game for much of the f...   \n",
       "3  Portugal never gave up and David Penalva score...   \n",
       "4  Italy led 16-5 at half time but were matched b...   \n",
       "\n",
       "                                                  id  \n",
       "0  Italia berhasil mengalahkan Portugal 31-5 di g...  \n",
       "1  Andrea Masi membuka skor di menit keempat deng...  \n",
       "2  Meskipun mengontrol jalannya pertandingan untu...  \n",
       "3  Portugal tidak pernah menyerah dan David Penal...  \n",
       "4  Italia memimpin 16-5 di babak pertama namun me...  "
      ]
     },
     "execution_count": 26,
     "metadata": {},
     "output_type": "execute_result"
    }
   ],
   "source": [
    "# unpack the dict in each row into two new columns\n",
    "df_parallel['en'] = df_parallel['translation'].apply(lambda d: d['en'])\n",
    "df_parallel['id'] = df_parallel['translation'].apply(lambda d: d['id'])\n",
    "\n",
    "df_parallel.head()\n"
   ]
  },
  {
   "cell_type": "code",
   "execution_count": null,
   "id": "8e65c6ad",
   "metadata": {},
   "outputs": [],
   "source": [
    "# df_treebank.to_parquet(\"data/train_treebank.parquet\")\n",
    "# df_parallel.to_parquet(\"data/train_parallel.parquet\")"
   ]
  },
  {
   "cell_type": "markdown",
   "id": "6f5dfb32",
   "metadata": {},
   "source": [
    "### Merge treebank with translation dataset"
   ]
  },
  {
   "cell_type": "code",
   "execution_count": 65,
   "id": "65679bc1",
   "metadata": {},
   "outputs": [],
   "source": [
    "df_parallel = df_parallel.drop(columns=['translation'])"
   ]
  },
  {
   "cell_type": "code",
   "execution_count": 66,
   "id": "4c3afae5",
   "metadata": {},
   "outputs": [],
   "source": [
    "df_parallel = df_parallel.merge(df_treebank[['SNT.URLID.SNTID', 'value']], on='SNT.URLID.SNTID')"
   ]
  },
  {
   "cell_type": "code",
   "execution_count": 70,
   "id": "46dd6b66",
   "metadata": {},
   "outputs": [
    {
     "data": {
      "text/html": [
       "<div>\n",
       "<style scoped>\n",
       "    .dataframe tbody tr th:only-of-type {\n",
       "        vertical-align: middle;\n",
       "    }\n",
       "\n",
       "    .dataframe tbody tr th {\n",
       "        vertical-align: top;\n",
       "    }\n",
       "\n",
       "    .dataframe thead th {\n",
       "        text-align: right;\n",
       "    }\n",
       "</style>\n",
       "<table border=\"1\" class=\"dataframe\">\n",
       "  <thead>\n",
       "    <tr style=\"text-align: right;\">\n",
       "      <th></th>\n",
       "      <th>SNT.URLID</th>\n",
       "      <th>SNT.URLID.SNTID</th>\n",
       "      <th>url</th>\n",
       "      <th>en</th>\n",
       "      <th>id</th>\n",
       "      <th>value</th>\n",
       "    </tr>\n",
       "  </thead>\n",
       "  <tbody>\n",
       "    <tr>\n",
       "      <th>0</th>\n",
       "      <td>80188</td>\n",
       "      <td>1</td>\n",
       "      <td>http://en.wikinews.org/wiki/2007_Rugby_World_Cup:_Italy_31_-_5_Portugal</td>\n",
       "      <td>Italy have defeated Portugal 31-5 in Pool C of the 2007 Rugby World Cup at Parc des Princes, Paris, France.</td>\n",
       "      <td>Italia berhasil mengalahkan Portugal 31-5 di grup C dalam Piala Dunia Rugby 2007 di Parc des Princes, Paris, Perancis.</td>\n",
       "      <td>(S (S (BASENP (NNP Italy)) (VP (VBP have) (VP (VP (VP (VBN defeated) (BASENP (NNP Portugal))) (ADVP (RB 31-5))) (PP (IN in) (NP (BASENP (NNP Pool) (NNP C)) (PP (IN of) (NP (BASENP (DT the) (NN 2007) (NNP Rugby) (NNP World) (NNP Cup)) (PP (IN at) (NP (BASENP (NNP Parc) (FW des) (NNP Princes)) (COMMA ,) (BASENP (NNP Paris) (COMMA ,) (NNP France))))))))))) (PERIOD .))</td>\n",
       "    </tr>\n",
       "    <tr>\n",
       "      <th>1</th>\n",
       "      <td>80188</td>\n",
       "      <td>2</td>\n",
       "      <td>http://en.wikinews.org/wiki/2007_Rugby_World_Cup:_Italy_31_-_5_Portugal</td>\n",
       "      <td>Andrea Masi opened the scoring in the fourth minute with a try for Italy.</td>\n",
       "      <td>Andrea Masi membuka skor di menit keempat dengan satu try untuk Italia.</td>\n",
       "      <td>(S (S (BASENP (NNP Andrea) (NNP Masi)) (VP (VP (VP (VBD opened) (BASENP (DT the) (NN scoring))) (PP (IN in) (BASENP (DT the) (JJ fourth) (NN minute)))) (PP (IN with) (NP (BASENP (DT a) (NN try)) (PP (IN for) (BASENP (NNP Italy))))))) (PERIOD .))</td>\n",
       "    </tr>\n",
       "    <tr>\n",
       "      <th>2</th>\n",
       "      <td>80188</td>\n",
       "      <td>3</td>\n",
       "      <td>http://en.wikinews.org/wiki/2007_Rugby_World_Cup:_Italy_31_-_5_Portugal</td>\n",
       "      <td>Despite controlling the game for much of the first half, Italy could not score any other tries before the interval but David Bortolussi kicked three penalties to extend their lead.</td>\n",
       "      <td>Meskipun mengontrol jalannya pertandingan untuk sebagian besar dari setengah permainan, Italia tidak dapat menambah skor melalui try lainnya sebelum istirahat, namun David Bortolussi menendang tiga penalti untuk memperlebar keunggulan mereka.</td>\n",
       "      <td>(S (S (S (PP (IN Despite) (S (VP (VP (VBG controlling) (BASENP (DT the) (NN game))) (PP (IN for) (NP (BASENP (JJ much)) (PP (IN of) (BASENP (DT the) (JJ first) (NN half)))))))) (COMMA ,) (S (BASENP (NNP Italy)) (VP (VP (MD could) (RB not)) (VP (VP (VB score) (BASENP (DT any) (JJ other) (NN tries))) (PP (IN before) (BASENP (DT the) (NN interval))))))) (CC but) (S (BASENP (NNP David) (NNP Bortolussi)) (VP (VP (VBD kicked) (BASENP (NN three) (NNS penalties))) (S (VP (TO to) (VP (VB extend) (BASENP (PRPD their) (NN lead)))))))) (PERIOD .))</td>\n",
       "    </tr>\n",
       "    <tr>\n",
       "      <th>3</th>\n",
       "      <td>80188</td>\n",
       "      <td>4</td>\n",
       "      <td>http://en.wikinews.org/wiki/2007_Rugby_World_Cup:_Italy_31_-_5_Portugal</td>\n",
       "      <td>Portugal never gave up and David Penalva scored a try in the 33rd minute, providing their only points of the match.</td>\n",
       "      <td>Portugal tidak pernah menyerah dan David Penalva mencetak skor melalui try di menit ke-33 yang menjadi skor akhir mereka.</td>\n",
       "      <td>(S (S (S (BASENP (NNP Portugal)) (VP (ADVP (RB never)) (VP (VBD gave) (PRT (RP up))))) (CC and) (S (BASENP (NNP David) (NNP Penalva)) (VP (VP (VP (VBD scored) (BASENP (DT a) (NN try))) (PP (IN in) (BASENP (DT the) (JJ 33rd) (NN minute)))) (COMMA ,) (S (VP (VBG providing) (NP (BASENP (PRPD their) (JJ only) (NNS points)) (PP (IN of) (BASENP (DT the) (NN match))))))))) (PERIOD .))</td>\n",
       "    </tr>\n",
       "    <tr>\n",
       "      <th>4</th>\n",
       "      <td>80188</td>\n",
       "      <td>5</td>\n",
       "      <td>http://en.wikinews.org/wiki/2007_Rugby_World_Cup:_Italy_31_-_5_Portugal</td>\n",
       "      <td>Italy led 16-5 at half time but were matched by Portugal for much of the second half.</td>\n",
       "      <td>Italia memimpin 16-5 di babak pertama namun mendapat perlawanan dari portugal di babak kedua.</td>\n",
       "      <td>(S (S (BASENP (NNP Italy)) (VP (VP (VP (VBD led) (ADVP (RB 16-5))) (PP (IN at) (BASENP (JJ half) (NN time)))) (CC but) (VP (VBD were) (VP (VP (VBN matched) (PP (IN by) (BASENP (NNP Portugal)))) (PP (IN for) (NP (BASENP (JJ much)) (PP (IN of) (BASENP (DT the) (JJ second) (NN half))))))))) (PERIOD .))</td>\n",
       "    </tr>\n",
       "  </tbody>\n",
       "</table>\n",
       "</div>"
      ],
      "text/plain": [
       "  SNT.URLID SNT.URLID.SNTID  \\\n",
       "0     80188               1   \n",
       "1     80188               2   \n",
       "2     80188               3   \n",
       "3     80188               4   \n",
       "4     80188               5   \n",
       "\n",
       "                                                                       url  \\\n",
       "0  http://en.wikinews.org/wiki/2007_Rugby_World_Cup:_Italy_31_-_5_Portugal   \n",
       "1  http://en.wikinews.org/wiki/2007_Rugby_World_Cup:_Italy_31_-_5_Portugal   \n",
       "2  http://en.wikinews.org/wiki/2007_Rugby_World_Cup:_Italy_31_-_5_Portugal   \n",
       "3  http://en.wikinews.org/wiki/2007_Rugby_World_Cup:_Italy_31_-_5_Portugal   \n",
       "4  http://en.wikinews.org/wiki/2007_Rugby_World_Cup:_Italy_31_-_5_Portugal   \n",
       "\n",
       "                                                                                                                                                                                     en  \\\n",
       "0                                                                           Italy have defeated Portugal 31-5 in Pool C of the 2007 Rugby World Cup at Parc des Princes, Paris, France.   \n",
       "1                                                                                                             Andrea Masi opened the scoring in the fourth minute with a try for Italy.   \n",
       "2  Despite controlling the game for much of the first half, Italy could not score any other tries before the interval but David Bortolussi kicked three penalties to extend their lead.   \n",
       "3                                                                   Portugal never gave up and David Penalva scored a try in the 33rd minute, providing their only points of the match.   \n",
       "4                                                                                                 Italy led 16-5 at half time but were matched by Portugal for much of the second half.   \n",
       "\n",
       "                                                                                                                                                                                                                                                   id  \\\n",
       "0                                                                                                                              Italia berhasil mengalahkan Portugal 31-5 di grup C dalam Piala Dunia Rugby 2007 di Parc des Princes, Paris, Perancis.   \n",
       "1                                                                                                                                                                             Andrea Masi membuka skor di menit keempat dengan satu try untuk Italia.   \n",
       "2  Meskipun mengontrol jalannya pertandingan untuk sebagian besar dari setengah permainan, Italia tidak dapat menambah skor melalui try lainnya sebelum istirahat, namun David Bortolussi menendang tiga penalti untuk memperlebar keunggulan mereka.   \n",
       "3                                                                                                                           Portugal tidak pernah menyerah dan David Penalva mencetak skor melalui try di menit ke-33 yang menjadi skor akhir mereka.   \n",
       "4                                                                                                                                                       Italia memimpin 16-5 di babak pertama namun mendapat perlawanan dari portugal di babak kedua.   \n",
       "\n",
       "                                                                                                                                                                                                                                                                                                                                                                                                                                                                                                                                                           value  \n",
       "0                                                                                                                                                                                (S (S (BASENP (NNP Italy)) (VP (VBP have) (VP (VP (VP (VBN defeated) (BASENP (NNP Portugal))) (ADVP (RB 31-5))) (PP (IN in) (NP (BASENP (NNP Pool) (NNP C)) (PP (IN of) (NP (BASENP (DT the) (NN 2007) (NNP Rugby) (NNP World) (NNP Cup)) (PP (IN at) (NP (BASENP (NNP Parc) (FW des) (NNP Princes)) (COMMA ,) (BASENP (NNP Paris) (COMMA ,) (NNP France))))))))))) (PERIOD .))  \n",
       "1                                                                                                                                                                                                                                                                                                          (S (S (BASENP (NNP Andrea) (NNP Masi)) (VP (VP (VP (VBD opened) (BASENP (DT the) (NN scoring))) (PP (IN in) (BASENP (DT the) (JJ fourth) (NN minute)))) (PP (IN with) (NP (BASENP (DT a) (NN try)) (PP (IN for) (BASENP (NNP Italy))))))) (PERIOD .))  \n",
       "2  (S (S (S (PP (IN Despite) (S (VP (VP (VBG controlling) (BASENP (DT the) (NN game))) (PP (IN for) (NP (BASENP (JJ much)) (PP (IN of) (BASENP (DT the) (JJ first) (NN half)))))))) (COMMA ,) (S (BASENP (NNP Italy)) (VP (VP (MD could) (RB not)) (VP (VP (VB score) (BASENP (DT any) (JJ other) (NN tries))) (PP (IN before) (BASENP (DT the) (NN interval))))))) (CC but) (S (BASENP (NNP David) (NNP Bortolussi)) (VP (VP (VBD kicked) (BASENP (NN three) (NNS penalties))) (S (VP (TO to) (VP (VB extend) (BASENP (PRPD their) (NN lead)))))))) (PERIOD .))  \n",
       "3                                                                                                                                                                   (S (S (S (BASENP (NNP Portugal)) (VP (ADVP (RB never)) (VP (VBD gave) (PRT (RP up))))) (CC and) (S (BASENP (NNP David) (NNP Penalva)) (VP (VP (VP (VBD scored) (BASENP (DT a) (NN try))) (PP (IN in) (BASENP (DT the) (JJ 33rd) (NN minute)))) (COMMA ,) (S (VP (VBG providing) (NP (BASENP (PRPD their) (JJ only) (NNS points)) (PP (IN of) (BASENP (DT the) (NN match))))))))) (PERIOD .))  \n",
       "4                                                                                                                                                                                                                                                   (S (S (BASENP (NNP Italy)) (VP (VP (VP (VBD led) (ADVP (RB 16-5))) (PP (IN at) (BASENP (JJ half) (NN time)))) (CC but) (VP (VBD were) (VP (VP (VBN matched) (PP (IN by) (BASENP (NNP Portugal)))) (PP (IN for) (NP (BASENP (JJ much)) (PP (IN of) (BASENP (DT the) (JJ second) (NN half))))))))) (PERIOD .))  "
      ]
     },
     "execution_count": 70,
     "metadata": {},
     "output_type": "execute_result"
    }
   ],
   "source": [
    "df_parallel.head()"
   ]
  },
  {
   "cell_type": "code",
   "execution_count": null,
   "id": "fcb91bb5",
   "metadata": {},
   "outputs": [],
   "source": [
    "# df_parallel.to_parquet(\"data/train_merged.parquet\", index=False)"
   ]
  },
  {
   "cell_type": "markdown",
   "id": "cdfd9489",
   "metadata": {},
   "source": [
    "## Check columns that contains preposition"
   ]
  }
 ],
 "metadata": {
  "kernelspec": {
   "display_name": "venv",
   "language": "python",
   "name": "python3"
  },
  "language_info": {
   "codemirror_mode": {
    "name": "ipython",
    "version": 3
   },
   "file_extension": ".py",
   "mimetype": "text/x-python",
   "name": "python",
   "nbconvert_exporter": "python",
   "pygments_lexer": "ipython3",
   "version": "3.9.6"
  }
 },
 "nbformat": 4,
 "nbformat_minor": 5
}
