{
 "cells": [
  {
   "cell_type": "code",
   "execution_count": 65,
   "id": "eef0c69c",
   "metadata": {},
   "outputs": [],
   "source": [
    "import pandas as pd\n",
    "import json"
   ]
  },
  {
   "cell_type": "markdown",
   "id": "bf8934ae",
   "metadata": {},
   "source": [
    "# Derivative Decomposition of Complex Prepositional Phrases"
   ]
  },
  {
   "cell_type": "markdown",
   "id": "de8ab47b",
   "metadata": {},
   "source": [
    "## Step 1: initialize master lexicon"
   ]
  },
  {
   "cell_type": "code",
   "execution_count": 66,
   "id": "1c446a2c",
   "metadata": {},
   "outputs": [],
   "source": [
    "master_pp_lexicon = {}\n",
    "# Populate from atomic_p.json: Iterate through every entry in atomic_p.json. For each preposition (e.g., \"behind\"), add it as a key to master_lexicon and its full feature object as the value.\n",
    "with open('pp_lexicon/atomic_p.json', 'r') as f:\n",
    "    atomic_p = json.load(f)\n",
    "    for preposition, features in atomic_p.items():\n",
    "        master_pp_lexicon[preposition] = features"
   ]
  },
  {
   "cell_type": "code",
   "execution_count": 67,
   "id": "522f4038",
   "metadata": {},
   "outputs": [],
   "source": [
    "# Populate from p_lexicon.json: Iterate through every entry in p_lexicon.json.\n",
    "# for each key, value pair if the key already exists in master_lexicon, overwrite the value with the new value from p_lexicon.json.\n",
    "with open('pp_lexicon/p_lexicon.json', 'r') as f:\n",
    "    p_lexicon = json.load(f)\n",
    "    for preposition, features in p_lexicon.items():\n",
    "        if preposition in master_pp_lexicon:\n",
    "            master_pp_lexicon[preposition] = features\n",
    "        else:\n",
    "            master_pp_lexicon[preposition] = features"
   ]
  },
  {
   "cell_type": "code",
   "execution_count": 68,
   "id": "644b165c",
   "metadata": {},
   "outputs": [
    {
     "data": {
      "text/plain": [
       "107"
      ]
     },
     "execution_count": 68,
     "metadata": {},
     "output_type": "execute_result"
    }
   ],
   "source": [
    "len(master_pp_lexicon)"
   ]
  },
  {
   "cell_type": "code",
   "execution_count": 69,
   "id": "dc253361",
   "metadata": {},
   "outputs": [
    {
     "data": {
      "text/plain": [
       "dict_keys(['behind', 'above', 'below', 'beyond', 'in front of', 'inside', 'outside', 'left', 'right', 'against', 'among', 'beside', 'between', 'near', 'next to', 'upon', 'across', 'along', 'around', 'over', 'past', 'through', 'under', 'up', 'down', 'on', 'off', 'in', 'out', 'away', 'top', 'astride', 'corner', 'by', 'edge', 'onto', 'after', 'but', 'end', 'into', 'upside', 'for', 'base', 'higher', 'high', 'bottom', 'via', 'aside', 'back', 'nearest', 'betwixt', 'at', 'ahead', 'astern', 'following', 'center', 'within', 'prior', 'without', 'front', 'before', 'opposite', 'from', 'beneath', 'with', 'rear', 'apart', 'towards', 'except', 'heart', 'afore', 'tween', 'aboard', 'throughout', 'foot', 'nearer', 'nigh', 'alongside', 'virtue', 'next', 'toward', 'amongst', 'side', 'the', 'of', 'far', 'amid', 'adjacent', 'underneath', 'skin', 'flank', 'part', 'plus', 'to', 'board', 'subsequent', 'addition', 'cross', 'surface', 'a', 'amidst', 'underside', 'middle', 'rim', 'face', 'close', 'core'])"
      ]
     },
     "execution_count": 69,
     "metadata": {},
     "output_type": "execute_result"
    }
   ],
   "source": [
    "master_pp_lexicon.keys()"
   ]
  },
  {
   "cell_type": "markdown",
   "id": "4e8d3c32",
   "metadata": {},
   "source": [
    "## Step 2: add complex preposition list"
   ]
  },
  {
   "cell_type": "code",
   "execution_count": 70,
   "id": "d29bfd34",
   "metadata": {},
   "outputs": [],
   "source": [
    "df_pp_wordnet = pd.read_csv('dictionaries/pp_wordnet_wiki_pop.csv', sep=',')\n",
    "pp_wordnet_wiki = list(df_pp_wordnet['preposition'])\n",
    "# drop nan in pp_wordnet_wiki\n",
    "pp_wordnet_wiki = [x for x in pp_wordnet_wiki if x is not None]\n"
   ]
  },
  {
   "cell_type": "code",
   "execution_count": 71,
   "id": "fe699622",
   "metadata": {},
   "outputs": [
    {
     "data": {
      "text/plain": [
       "85"
      ]
     },
     "execution_count": 71,
     "metadata": {},
     "output_type": "execute_result"
    }
   ],
   "source": [
    "complex_pp_list = []\n",
    "# check pp_wordnet_wiki against master_pp_lexicon keys\n",
    "for preposition in pp_wordnet_wiki:\n",
    "    if preposition not in master_pp_lexicon:\n",
    "        complex_pp_list.append(preposition)\n",
    "\n",
    "# remove nan type() float in complex_pp_list\n",
    "complex_pp_list = [x for x in complex_pp_list if type(x) is str]\n",
    "complex_pp_list = list(set(complex_pp_list))  # remove duplicates\n",
    "complex_pp_list.sort()\n",
    "len(complex_pp_list)"
   ]
  },
  {
   "cell_type": "code",
   "execution_count": 72,
   "id": "5b6624fc",
   "metadata": {},
   "outputs": [
    {
     "name": "stdout",
     "output_type": "stream",
     "text": [
      "31\n"
     ]
    }
   ],
   "source": [
    "# add empty p_lexicon.json entry to complex_pp_list\n",
    "counter = 0\n",
    "for key, entry in p_lexicon.items():\n",
    "    if entry[\"isAtomicMorph\"] == \"\" and entry[\"class\"] == \"\" and entry[\"path_p_morphology\"] == \"\" and entry[\"measure_allowed\"] == \"\" and entry[\"spellOutHEAD\"] == [\"\"]:\n",
    "        complex_pp_list.append(key)\n",
    "        counter += 1\n",
    "\n",
    "print(counter)"
   ]
  },
  {
   "cell_type": "code",
   "execution_count": 73,
   "id": "56161d8b",
   "metadata": {},
   "outputs": [
    {
     "data": {
      "text/plain": [
       "116"
      ]
     },
     "execution_count": 73,
     "metadata": {},
     "output_type": "execute_result"
    }
   ],
   "source": [
    "with open('pp_lexicon/complex_pp.json', 'w') as f:\n",
    "    json.dump(complex_pp_list, f, indent=4)\n",
    "    \n",
    "len(complex_pp_list)"
   ]
  },
  {
   "cell_type": "code",
   "execution_count": 74,
   "id": "972565ce",
   "metadata": {},
   "outputs": [
    {
     "data": {
      "text/plain": [
       "['virtue',\n",
       " 'toward',\n",
       " 'amongst',\n",
       " 'adjacent',\n",
       " 'underneath',\n",
       " 'plus',\n",
       " 'subsequent',\n",
       " 'addition',\n",
       " 'cross',\n",
       " 'underside']"
      ]
     },
     "execution_count": 74,
     "metadata": {},
     "output_type": "execute_result"
    }
   ],
   "source": [
    "complex_pp_list.remove('the')\n",
    "complex_pp_list[-10:]"
   ]
  },
  {
   "cell_type": "code",
   "execution_count": 75,
   "id": "c2ad8dd8",
   "metadata": {},
   "outputs": [],
   "source": [
    "decomposed_result = {} # dictionary to store deomposition results"
   ]
  },
  {
   "cell_type": "markdown",
   "id": "f293509d",
   "metadata": {},
   "source": [
    "### get empty list lexicon in p_lexicon.json"
   ]
  },
  {
   "cell_type": "code",
   "execution_count": 82,
   "id": "d81a781f",
   "metadata": {},
   "outputs": [
    {
     "name": "stdout",
     "output_type": "stream",
     "text": [
      "31\n"
     ]
    }
   ],
   "source": [
    "# get empty or \"\" entries from p_lexicon.json\n",
    "empty_entries = []\n",
    "for key, entry in p_lexicon.items():\n",
    "    if entry[\"isAtomicMorph\"] == \"\" and entry[\"class\"] == \"\" and entry[\"path_p_morphology\"] == \"\" and entry[\"measure_allowed\"] == \"\" and entry[\"spellOutHEAD\"] == [\"\"]:\n",
    "        empty_entries.append(key)\n",
    "    \n",
    "print(len(empty_entries))"
   ]
  },
  {
   "cell_type": "code",
   "execution_count": null,
   "id": "e26e3c54",
   "metadata": {},
   "outputs": [],
   "source": [
    "# copy p_lexicon.json to dictionary\n",
    "filled_p_lexicon = {}\n",
    "\n",
    "for key, entry in p_lexicon.items():\n",
    "    if entry[\"isAtomicMorph\"] == \"\" and entry[\"class\"] == \"\" and entry[\"path_p_morphology\"] == \"\" and entry[\"measure_allowed\"] == \"\" and entry[\"spellOutHEAD\"] == [\"\"]:\n",
    "        continue\n",
    "    else:\n",
    "        filled_p_lexicon[key] = entry\n",
    "        \n",
    "len(filled_p_lexicon.keys())\n",
    "\n",
    "# with open('pp_lexicon/p_lexicon.json', 'w') as f:\n",
    "#     json.dump(filled_p_lexicon, f, indent=4)\n"
   ]
  },
  {
   "cell_type": "markdown",
   "id": "172ce435",
   "metadata": {},
   "source": [
    "## Step 3: Decomposition Logic"
   ]
  },
  {
   "cell_type": "code",
   "execution_count": null,
   "id": "52c169fd",
   "metadata": {},
   "outputs": [],
   "source": []
  }
 ],
 "metadata": {
  "kernelspec": {
   "display_name": "venv",
   "language": "python",
   "name": "python3"
  },
  "language_info": {
   "codemirror_mode": {
    "name": "ipython",
    "version": 3
   },
   "file_extension": ".py",
   "mimetype": "text/x-python",
   "name": "python",
   "nbconvert_exporter": "python",
   "pygments_lexer": "ipython3",
   "version": "3.9.6"
  }
 },
 "nbformat": 4,
 "nbformat_minor": 5
}
